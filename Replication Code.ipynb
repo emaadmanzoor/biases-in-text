{
 "cells": [
  {
   "cell_type": "markdown",
   "metadata": {},
   "source": [
    "# Replication Code\n",
    "\n",
    "Required packages:\n",
    "   * jupyter\n",
    "   * matplotlib\n",
    "   * numpy\n",
    "   * pandas\n",
    "   * pickle\n",
    "   * scikit-learn\n",
    "   * scipy\n",
    "   * seaborn\n",
    "   * statsmodels\n",
    "   * tqdm"
   ]
  },
  {
   "cell_type": "code",
   "execution_count": 1,
   "metadata": {},
   "outputs": [],
   "source": [
    "import matplotlib\n",
    "matplotlib.rcParams[\"hatch.color\"] = \"black\"\n",
    "import matplotlib.pyplot as plt\n",
    "import numpy as np\n",
    "import pandas as pd\n",
    "import pickle\n",
    "import scipy\n",
    "import seaborn as sns\n",
    "sns.set(style=\"whitegrid\", font_scale=1)\n",
    "from sklearn.feature_extraction.text import CountVectorizer\n",
    "from sklearn.model_selection import StratifiedKFold\n",
    "from sklearn.metrics import roc_auc_score\n",
    "from sklearn.naive_bayes import MultinomialNB\n",
    "from sklearn.utils import resample\n",
    "import statsmodels.formula.api as sm\n",
    "from tqdm.auto import tqdm\n",
    "from tqdm.contrib.concurrent import thread_map, process_map"
   ]
  },
  {
   "cell_type": "markdown",
   "metadata": {},
   "source": [
    "## Get submissions to ICLR 2017 - 2020"
   ]
  },
  {
   "cell_type": "code",
   "execution_count": 2,
   "metadata": {},
   "outputs": [],
   "source": [
    "papers = {}\n",
    "papers[2017] = pd.read_hdf(\"iclr2017_papers.hd5\")[[\"submission_id\", \"author_names\", \"author_emails\"]]\n",
    "papers[2018] = pd.read_hdf(\"iclr2018_papers.hd5\")[[\"submission_id\", \"author_names\", \"author_emails\", \"title\"]]\n",
    "papers[2019] = pd.read_hdf(\"iclr2019_papers.hd5\")[[\"submission_id\", \"author_names\", \"author_emails\"]]\n",
    "papers[2020] = pd.read_hdf(\"iclr2020_papers.hd5\")[[\"submission_id\", \"author_names\", \"author_emails\"]]\n",
    "\n",
    "# fix affiliations (or affiliation domains) parsed from PDF in ICLR 2017\n",
    "affiliations_2017 = pd.read_hdf(\"iclr2017_affiliations.hd5\")\n",
    "papers[2017] = pd.merge(left=papers[2017], right=affiliations_2017, left_on=\"submission_id\",\n",
    "                       right_on=\"submission_id\", validate=\"one_to_one\")\n",
    "papers[2017] = papers[2017].drop(columns=[\"author_emails\"]).rename({\"author_emails_pdf\": \"author_emails\"}, axis=1)"
   ]
  },
  {
   "cell_type": "markdown",
   "metadata": {},
   "source": [
    "## Read author affiliations, construct affiliation-based subgroups (Table 1, first column)"
   ]
  },
  {
   "cell_type": "code",
   "execution_count": 3,
   "metadata": {},
   "outputs": [
    {
     "name": "stdout",
     "output_type": "stream",
     "text": [
      "Affiliation-based Subgroups: Proportion of papers in G_1 (%)\n",
      "  2017 24.081632653061224\n",
      "  2018 24.102564102564102\n",
      "  2019 25.965801139962004\n",
      "  2020 30.493446414803394\n"
     ]
    }
   ],
   "source": [
    "domain_map = pickle.load(open(\"domain_map.p\", \"rb\"))\n",
    "def map_gmails(email_list):\n",
    "    new_email_list = []\n",
    "    for email in email_list.split(\",\"):\n",
    "        new_email = email\n",
    "        if email in domain_map:\n",
    "            new_email = domain_map[email]\n",
    "        new_email_list.append(new_email)\n",
    "    return \",\".join(new_email_list)\n",
    "papers[2018][\"author_emails\"] = papers[2018][\"author_emails\"].apply(map_gmails)\n",
    "papers[2019][\"author_emails\"] = papers[2019][\"author_emails\"].apply(map_gmails)\n",
    "papers[2020][\"author_emails\"] = papers[2020][\"author_emails\"].apply(map_gmails)\n",
    "\n",
    "# remove withdrawn papers\n",
    "iclr2018_withdrawn = papers[2018][\"author_emails\"].apply(lambda x: len(x)) == 0\n",
    "papers[2018] = papers[2018][~iclr2018_withdrawn]\n",
    "\n",
    "# manual fix for one paper in ICLR 2017\n",
    "papers[2017].loc[papers[2017][\"submission_id\"]==\"SJUdkecgx\", \"author_emails\"] =\\\n",
    "    \"masoud.faraki@data61.csiro.au,mehrtash.harandi@data61.csiro.au,fatih.porikli@data61.csiro.au\"\n",
    "papers[2017].loc[papers[2017][\"submission_id\"]==\"SJUdkecgx\", \"title\"] =\\\n",
    "    \"WHEN METRIC LEARNING GOES HAND IN HAND WITH DIMENSIONALITY REDUCTION\"\n",
    "\n",
    "def mark_foreign(email_list):\n",
    "    is_foreign = 1\n",
    "    for email in email_list.split(\",\"):\n",
    "        domain = email.split(\".\")[-1]\n",
    "\n",
    "        if domain in [\"edu\", \"ca\", \"org\", \"mil\", \"gov\"]:\n",
    "            is_foreign = 0\n",
    "            break  \n",
    "\n",
    "        if domain == \"com\":\n",
    "            is_foreign_com = 0\n",
    "            for foreign_com in [\"baidu\", \"tencent\", \"huawei\", \"samsung\", \"caiyunapp\",\n",
    "                                \"qq\", \"163\", \"126\", \"navercorp\", \"hitachi\", \"xiaomi\", \"taobao\",\n",
    "                                \"panasonic\", \"naverlabs\", \"fujitso\", \"toutiao\", \"alibaba\", \"yitu-inc\",\n",
    "                                \"360.com\", \"mohakshah\", \"gmail\", \"googlemail\", \"live\", \"hotmail\"]:\n",
    "                if foreign_com in email:\n",
    "                    is_foreign_com = 1\n",
    "                    break\n",
    "            \n",
    "            if not is_foreign_com: # .com domain and not a foreign company\n",
    "                is_foreign = 0\n",
    "                break\n",
    "\n",
    "    return is_foreign\n",
    "\n",
    "papers[2017][\"foreign\"] = papers[2017][\"author_emails\"].apply(mark_foreign)\n",
    "papers[2018][\"foreign\"] = papers[2018][\"author_emails\"].apply(mark_foreign)\n",
    "papers[2019][\"foreign\"] = papers[2019][\"author_emails\"].apply(mark_foreign)\n",
    "papers[2020][\"foreign\"] = papers[2020][\"author_emails\"].apply(mark_foreign)\n",
    "\n",
    "print(\"Affiliation-based Subgroups: Proportion of papers in G_1 (%)\")\n",
    "for year in [2017, 2018, 2019, 2020]:\n",
    "    print(\" \", year, papers[year][\"foreign\"].mean() * 100.0)\n",
    "\n"
   ]
  },
  {
   "cell_type": "markdown",
   "metadata": {},
   "source": [
    "## Get paper abstracts, peer review ratings and text"
   ]
  },
  {
   "cell_type": "code",
   "execution_count": 4,
   "metadata": {},
   "outputs": [
    {
     "name": "stdout",
     "output_type": "stream",
     "text": [
      "Dataset sizes:\n",
      "ICLR 2017: 490 papers, 1489 reviews\n",
      "ICLR 2018: 975 papers, 2852 reviews\n",
      "ICLR 2019: 1579 papers, 4764 reviews\n",
      "ICLR 2020: 2594 papers, 7775 reviews\n"
     ]
    }
   ],
   "source": [
    "reviews = {}\n",
    "reviews[2017] = pd.read_hdf(\"iclr_2017_cleantext.hd5\")\n",
    "reviews[2018] = pd.read_hdf(\"iclr_2018_cleantext.hd5\")\n",
    "reviews[2019] = pd.read_hdf(\"iclr_2019_cleantext.hd5\")\n",
    "reviews[2020] = pd.read_hdf(\"iclr_2020_cleantext.hd5\")\n",
    "\n",
    "reviews[2017][\"year\"] = 2017\n",
    "reviews[2018][\"year\"] = 2018\n",
    "reviews[2019][\"year\"] = 2019\n",
    "reviews[2020][\"year\"] = 2020\n",
    "\n",
    "for year in [2017, 2018, 2019, 2020]:\n",
    "    reviews[year] = pd.merge(left=reviews[year], right=papers[year],\n",
    "                             left_on=\"submission_id\", right_on=\"submission_id\",\n",
    "                             validate=\"many_to_one\")\n",
    "\n",
    "for year in [2017, 2018, 2019, 2020]:\n",
    "    reviews[year] = pd.merge(reviews[year], pd.read_hdf(\"iclr_\" + str(year) + \"_cleanabstract.hd5\"),\n",
    "                             left_on=\"submission_id\", right_on=\"submission_id\", validate=\"many_to_one\")\n",
    "\n",
    "print(\"Dataset sizes:\")\n",
    "print(\"ICLR 2017:\", len(papers[2017]), \"papers,\", len(reviews[2017]), \"reviews\")\n",
    "print(\"ICLR 2018:\", len(papers[2018]), \"papers,\", len(reviews[2018]), \"reviews\")\n",
    "print(\"ICLR 2019:\", len(papers[2019]), \"papers,\", len(reviews[2019]), \"reviews\")\n",
    "print(\"ICLR 2020:\", len(papers[2020]), \"papers,\", len(reviews[2020]), \"reviews\")\n",
    "\n",
    "decisions = {}\n",
    "decisions[2017] = pd.read_hdf(\"iclr2017_reviews.hd5\")[[\"submission_id\", \"decision\"]].dropna()\n",
    "decisions[2018] = pd.read_hdf(\"iclr2018_reviews.hd5\")[[\"submission_id\", \"decision\"]].dropna()\n",
    "decisions[2019] = pd.read_hdf(\"iclr2019_reviews.hd5\")[[\"submission_id\", \"recommendation\"]].dropna()\n",
    "decisions[2020] = pd.read_hdf(\"iclr2020_reviews.hd5\")[[\"submission_id\", \"recommendation\"]].dropna()\n",
    "\n",
    "num_accepted = {}\n",
    "num_rejected = {}\n",
    "for year in [2017, 2018, 2019, 2020]:\n",
    "    if year < 2019:\n",
    "        string = \"decision\"\n",
    "    else:\n",
    "        string = \"recommendation\"\n",
    "    num_accepted[year] = (decisions[year][string].str.contains(\"Accept\")).sum()\n",
    "    num_rejected[year] = len(decisions[year]) - num_accepted[year]"
   ]
  },
  {
   "cell_type": "markdown",
   "metadata": {},
   "source": [
    "## Paper submission and acceptance statistics (Figure 1)"
   ]
  },
  {
   "cell_type": "code",
   "execution_count": 5,
   "metadata": {},
   "outputs": [
    {
     "data": {
      "image/png": "[encoded data removed]",
      "text/plain": [
       "<Figure size 495x225 with 1 Axes>"
      ]
     },
     "metadata": {
      "needs_background": "light"
     },
     "output_type": "display_data"
    }
   ],
   "source": [
    "plt.figure(figsize=(3.3, 1.5), dpi=150)\n",
    "years = [2017, 2018, 2019, 2020]\n",
    "accepted = [num_accepted[year] for year in years][::-1]\n",
    "rejected = [num_rejected[year] for year in years][::-1]\n",
    "plt.barh(y=years, width=rejected, height=0.9, orientation=\"horizontal\", color='C3', label=\"Rejected\",\n",
    "         hatch=3*\"/\")\n",
    "plt.barh(y=years, width=accepted, height=0.9, orientation=\"horizontal\", color='C7', label=\"Accepted\", left=rejected)\n",
    "acceptence_rates = [\"{:.0f}%\".format(a/(a+r)*100) for a, r in zip(accepted, rejected)]\n",
    "for i in range(len(years)):\n",
    "    year = years[i] - 0.1\n",
    "    r = acceptence_rates[i]\n",
    "    n = rejected[i] + accepted[i] + 50\n",
    "    plt.text(n, year - 0.05, s=r, fontsize=10, color=\"k\", bbox=dict(facecolor='white', alpha=0.5))\n",
    "plt.yticks(years, years[::-1])\n",
    "plt.legend(loc=\"upper center\", ncol=2, bbox_to_anchor=(0.5, 1.35), fontsize=10.5)\n",
    "plt.xlim(0, 2650)\n",
    "plt.ylabel(\"Year\")\n",
    "plt.xlabel(\"Number of papers\")\n",
    "plt.show()"
   ]
  },
  {
   "cell_type": "markdown",
   "metadata": {},
   "source": [
    "## Descriptive evidence of bias in the review ratings (Figure 2)"
   ]
  },
  {
   "cell_type": "code",
   "execution_count": 6,
   "metadata": {},
   "outputs": [
    {
     "data": {
      "image/png": "[encoded data removed]",
      "text/plain": [
       "<Figure size 495x225 with 1 Axes>"
      ]
     },
     "metadata": {
      "needs_background": "light"
     },
     "output_type": "display_data"
    },
    {
     "data": {
      "image/png": "[encoded data removed]",
      "text/plain": [
       "<Figure size 495x225 with 1 Axes>"
      ]
     },
     "metadata": {
      "needs_background": "light"
     },
     "output_type": "display_data"
    }
   ],
   "source": [
    "plt.figure(figsize=(3.3, 1.5), dpi=150)\n",
    "plt.plot([2017, 2018, 2019, 2020],\n",
    "         [np.percentile(reviews[year][reviews[year][\"foreign\"]==0][\"rating2\"], 50.0)\n",
    "          for year in [2017, 2018, 2019,2020]], color='C0', marker='o', label=r\"$G_0$\")\n",
    "plt.plot([2017, 2018, 2019, 2020],\n",
    "         [np.percentile(reviews[year][reviews[year][\"foreign\"]==1][\"rating2\"], 50.0)\n",
    "          for year in [2017, 2018, 2019,2020]], color='C1', marker='x', mew=1.5, label=r\"$G_1$\", linestyle=\"--\")\n",
    "plt.legend(ncol=2, fontsize=13)\n",
    "plt.yticks([3, 4, 5, 6])\n",
    "plt.xticks([2017, 2018, 2019, 2020])\n",
    "plt.xlabel(\"Year\")\n",
    "plt.ylabel(\"Median Rating\")\n",
    "plt.show()\n",
    "\n",
    "plt.figure(figsize=(3.3, 1.5), dpi=150)\n",
    "plt.plot([2017, 2018, 2019, 2020],\n",
    "         [np.mean(reviews[year][reviews[year][\"foreign\"]==0][\"rating2\"])\n",
    "          for year in [2017, 2018, 2019,2020]], color='C0', marker='o', label=r\"$G_0$\")\n",
    "plt.plot([2017, 2018, 2019, 2020],\n",
    "         [np.mean(reviews[year][reviews[year][\"foreign\"]==1][\"rating2\"])\n",
    "          for year in [2017, 2018, 2019,2020]], color='C1', marker='x', mew=1.5, label=r\"$G_1$\", linestyle=\"--\")\n",
    "plt.legend(ncol=2, fontsize=13)\n",
    "plt.yticks([3, 4, 5, 6])\n",
    "plt.xticks([2017, 2018, 2019, 2020])\n",
    "plt.xlabel(\"Year\")\n",
    "plt.ylabel(\"Mean Rating\")\n",
    "plt.show()"
   ]
  },
  {
   "cell_type": "markdown",
   "metadata": {},
   "source": [
    "## Estimated bias in the peer review ratings (Table 2, left)\n",
    "\n",
    "Standard errors are clustered by submission ID, since the noise terms in the ratings for each paper may be correlated. This increases the size of the standard errors, widens confidence intervals and makes p-values larger.\n"
   ]
  },
  {
   "cell_type": "code",
   "execution_count": 7,
   "metadata": {},
   "outputs": [
    {
     "name": "stdout",
     "output_type": "stream",
     "text": [
      "Year pair: 2017/2018\tbias=-0.369\tstd. err=0.164\tp-value=0.024\t95% CI=(-0.690, -0.047)\n",
      "Year pair: 2018/2019\tbias=0.138\tstd. err=0.112\tp-value=0.219\t95% CI=(-0.082, 0.358)\n",
      "Year pair: 2019/2020\tbias=0.118\tstd. err=0.099\tp-value=0.236\t95% CI=(-0.077, 0.313)\n"
     ]
    }
   ],
   "source": [
    "for year_pair in [(2017, 2018), (2018, 2019), (2019, 2020)]:\n",
    "    year1, year2 = year_pair\n",
    "    df = pd.concat((reviews[year1][[\"submission_id\", \"rating2\", \"foreign\", \"year\"]],\n",
    "                    reviews[year2][[\"submission_id\", \"rating2\", \"foreign\", \"year\"]]))\n",
    "    df[\"y\" + str(year2)] = df[\"year\"] == year2\n",
    "    \n",
    "    year2str = \"C(y\" + str(year2) + \")\"\n",
    "    model = sm.ols(formula=\"rating2 ~ \" + year2str + \"+ C(~foreign) + \" + year2str + \":C(~foreign)\", data=df)\n",
    "    res = model.fit(cov_type=\"cluster\", cov_kwds={'groups': df[\"submission_id\"]})\n",
    "    \n",
    "    #print(res.summary()) # UNCOMMENT FOR FULL OLS TABLE\n",
    "    print(\"Year pair:\", str(year1) + \"/\" + str(year2), end=\"\\t\")\n",
    "    print(\"bias={:.3f}\".format(res.params[year2str + \"[T.True]:C( ~foreign)[T.-1]\"]), end=\"\\t\")\n",
    "    print(\"std. err={:.3f}\".format(res.bse[year2str + \"[T.True]:C( ~foreign)[T.-1]\"]), end=\"\\t\")\n",
    "    print(\"p-value={:.3f}\".format(res.pvalues[year2str + \"[T.True]:C( ~foreign)[T.-1]\"]), end=\"\\t\")\n",
    "    print(\"95% CI=({:.3f}, {:.3f})\".format(*res.conf_int().loc[year2str + \"[T.True]:C( ~foreign)[T.-1]\"].values))"
   ]
  },
  {
   "cell_type": "markdown",
   "metadata": {},
   "source": [
    "## Estimated bias in the peer review text (Table 2, right)\n",
    "\n",
    "Note: The code below is multi-threaded and was run on 32 cores. Total running time was < 20 minutes."
   ]
  },
  {
   "cell_type": "markdown",
   "metadata": {},
   "source": [
    "### AUC ratio computation function called in each \"bootstrap\" iteration"
   ]
  },
  {
   "cell_type": "code",
   "execution_count": 8,
   "metadata": {},
   "outputs": [],
   "source": [
    "def bootstrap_function2(X, y, Xabstract, yabstract, npos, nneg, nposabstract, nnegabstract, seed):\n",
    "    np.random.seed(seed)\n",
    "    scipy.random.seed(int(seed/11))\n",
    "\n",
    "    # downsample + equalize class proportions\n",
    "    Xpos = resample(X[y==1], n_samples=npos, replace=False, random_state=int(seed/13))\n",
    "    Xneg = resample(X[y==0], n_samples=nneg, replace=False, random_state=int(seed/13)+5)\n",
    "    X = scipy.sparse.vstack((Xpos, Xneg))\n",
    "    y = np.array([1] * npos + [0] * nneg)\n",
    "\n",
    "    Xabstractpos = resample(Xabstract[yabstract==1], n_samples=nposabstract, replace=False, random_state=int(seed/17))\n",
    "    Xabstractneg = resample(Xabstract[yabstract==0], n_samples=nnegabstract, replace=False, random_state=int(seed/17)+5)\n",
    "    Xabstract = scipy.sparse.vstack((Xabstractpos, Xabstractneg))\n",
    "    yabstract = np.array([1] * nposabstract + [0] * nnegabstract)\n",
    "\n",
    "    kf = StratifiedKFold(n_splits=10, shuffle=True, random_state=int(seed/7))\n",
    "    scores = []\n",
    "    for train_index, test_index in kf.split(X, y):\n",
    "        Xtrain, Xtest = X[train_index], X[test_index]\n",
    "        ytrain, ytest = y[train_index], y[test_index]\n",
    "\n",
    "        clf = MultinomialNB()\n",
    "        clf.fit(Xtrain, ytrain)\n",
    "        ypred = clf.predict_proba(Xtest)[:,1]\n",
    "        auc_score = roc_auc_score(ytest, ypred)\n",
    "        scores.append(auc_score)\n",
    "        \n",
    "    kf = StratifiedKFold(n_splits=10, shuffle=True, random_state=int(seed/7)+5)\n",
    "    abstract_scores = []\n",
    "    for train_index, test_index in kf.split(Xabstract, yabstract):\n",
    "        Xtrain, Xtest = Xabstract[train_index], Xabstract[test_index]\n",
    "        ytrain, ytest = yabstract[train_index], yabstract[test_index]\n",
    "        \n",
    "        clf = MultinomialNB()\n",
    "        clf.fit(Xtrain, ytrain)\n",
    "        ypred = clf.predict_proba(Xtest)[:,1]\n",
    "        auc_score = roc_auc_score(ytest, ypred)\n",
    "        abstract_scores.append(auc_score)\n",
    "        \n",
    "    scores = np.array(scores)\n",
    "    abstract_scores = np.array(abstract_scores)\n",
    "\n",
    "    return np.mean(scores)/np.mean(abstract_scores)"
   ]
  },
  {
   "cell_type": "markdown",
   "metadata": {},
   "source": [
    "### ICLR 2017 AUC ratio"
   ]
  },
  {
   "cell_type": "code",
   "execution_count": 9,
   "metadata": {},
   "outputs": [
    {
     "data": {
      "application/vnd.jupyter.widget-view+json": {
       "model_id": "e2c1bf61752645c897794a7f36af561e",
       "version_major": 2,
       "version_minor": 0
      },
      "text/plain": [
       "HBox(children=(FloatProgress(value=0.0, max=1000.0), HTML(value='')))"
      ]
     },
     "metadata": {},
     "output_type": "display_data"
    },
    {
     "name": "stdout",
     "output_type": "stream",
     "text": [
      "\n"
     ]
    }
   ],
   "source": [
    "year = 2017\n",
    "review_text = list(reviews[year][\"clean_text\"].values)\n",
    "vectorizer = CountVectorizer(ngram_range=(1, 2))\n",
    "X = vectorizer.fit_transform(review_text)\n",
    "y = reviews[year][\"foreign\"].values[:].copy().astype(int)\n",
    "npos = reviews[2017][\"foreign\"].sum()\n",
    "nneg = len(reviews[2017]) - npos\n",
    "\n",
    "r = reviews[year][[\"submission_id\", \"clean_abstract\", \"foreign\"]].drop_duplicates()\n",
    "abstract_text = r[\"clean_abstract\"].values\n",
    "vectorizer = CountVectorizer(ngram_range=(1, 2))\n",
    "Xabstract = vectorizer.fit_transform(abstract_text)\n",
    "yabstract = r[\"foreign\"].values[:].copy()\n",
    "r = reviews[2017][[\"submission_id\", \"clean_abstract\", \"foreign\"]].drop_duplicates()\n",
    "nposabstract = r[\"foreign\"].sum()\n",
    "nnegabstract = len(r) - nposabstract\n",
    "\n",
    "nbootstraps = 1000\n",
    "bootstrap_auc_2017 = process_map(bootstrap_function2,\n",
    "                                 [X.copy() for i in range(nbootstraps)],\n",
    "                                 [y.copy() for i in range(nbootstraps)],\n",
    "                                 [Xabstract.copy() for i in range(nbootstraps)],\n",
    "                                 [yabstract.copy() for i in range(nbootstraps)],\n",
    "                                 [npos]*nbootstraps, [nneg]*nbootstraps,\n",
    "                                 [nposabstract]*nbootstraps, [nnegabstract]*nbootstraps,\n",
    "                                 np.array(range(nbootstraps)),\n",
    "                                 max_workers=32)"
   ]
  },
  {
   "cell_type": "markdown",
   "metadata": {},
   "source": [
    "### ICLR 2018 AUC ratio"
   ]
  },
  {
   "cell_type": "code",
   "execution_count": 10,
   "metadata": {},
   "outputs": [
    {
     "data": {
      "application/vnd.jupyter.widget-view+json": {
       "model_id": "29daa4e7576c4d40865719cf7b6f566a",
       "version_major": 2,
       "version_minor": 0
      },
      "text/plain": [
       "HBox(children=(FloatProgress(value=0.0, max=1000.0), HTML(value='')))"
      ]
     },
     "metadata": {},
     "output_type": "display_data"
    },
    {
     "name": "stdout",
     "output_type": "stream",
     "text": [
      "\n"
     ]
    }
   ],
   "source": [
    "year = 2018\n",
    "review_text = list(reviews[year][\"clean_text\"].values)\n",
    "vectorizer = CountVectorizer(ngram_range=(1, 2))\n",
    "X = vectorizer.fit_transform(review_text)\n",
    "y = reviews[year][\"foreign\"].values[:].copy().astype(int)\n",
    "npos = reviews[2017][\"foreign\"].sum()\n",
    "nneg = len(reviews[2017]) - npos\n",
    "\n",
    "r = reviews[year][[\"submission_id\", \"clean_abstract\", \"foreign\"]].drop_duplicates()\n",
    "abstract_text = r[\"clean_abstract\"].values\n",
    "vectorizer = CountVectorizer(ngram_range=(1, 2))\n",
    "Xabstract = vectorizer.fit_transform(abstract_text)\n",
    "yabstract = r[\"foreign\"].values[:].copy()\n",
    "r = reviews[2017][[\"submission_id\", \"clean_abstract\", \"foreign\"]].drop_duplicates()\n",
    "nposabstract = r[\"foreign\"].sum()\n",
    "nnegabstract = len(r) - nposabstract\n",
    "\n",
    "nbootstraps = 1000\n",
    "bootstrap_auc_2018 = process_map(bootstrap_function2,\n",
    "                                 [X.copy() for i in range(nbootstraps)],\n",
    "                                 [y.copy() for i in range(nbootstraps)],\n",
    "                                 [Xabstract.copy() for i in range(nbootstraps)],\n",
    "                                 [yabstract.copy() for i in range(nbootstraps)],\n",
    "                                 [npos]*nbootstraps, [nneg]*nbootstraps,\n",
    "                                 [nposabstract]*nbootstraps, [nnegabstract]*nbootstraps,\n",
    "                                 np.array(range(nbootstraps)),\n",
    "                                 max_workers=32)"
   ]
  },
  {
   "cell_type": "markdown",
   "metadata": {},
   "source": [
    "### ICLR 2019 AUC ratio"
   ]
  },
  {
   "cell_type": "code",
   "execution_count": 11,
   "metadata": {},
   "outputs": [
    {
     "data": {
      "application/vnd.jupyter.widget-view+json": {
       "model_id": "656524d7ada24e96b2e4e9a4d4d0d830",
       "version_major": 2,
       "version_minor": 0
      },
      "text/plain": [
       "HBox(children=(FloatProgress(value=0.0, max=1000.0), HTML(value='')))"
      ]
     },
     "metadata": {},
     "output_type": "display_data"
    },
    {
     "name": "stdout",
     "output_type": "stream",
     "text": [
      "\n"
     ]
    }
   ],
   "source": [
    "year = 2019\n",
    "review_text = list(reviews[year][\"clean_text\"].values)\n",
    "vectorizer = CountVectorizer(ngram_range=(1, 2))\n",
    "X = vectorizer.fit_transform(review_text)\n",
    "y = reviews[year][\"foreign\"].values[:].copy().astype(int)\n",
    "npos = reviews[2018][\"foreign\"].sum()\n",
    "nneg = len(reviews[2018]) - npos\n",
    "\n",
    "r = reviews[year][[\"submission_id\", \"clean_abstract\", \"foreign\"]].drop_duplicates()\n",
    "abstract_text = r[\"clean_abstract\"].values\n",
    "vectorizer = CountVectorizer(ngram_range=(1, 2))\n",
    "Xabstract = vectorizer.fit_transform(abstract_text)\n",
    "yabstract = r[\"foreign\"].values[:].copy()\n",
    "r = reviews[2018][[\"submission_id\", \"clean_abstract\", \"foreign\"]].drop_duplicates()\n",
    "nposabstract = r[\"foreign\"].sum()\n",
    "nnegabstract = len(r) - nposabstract\n",
    "\n",
    "nbootstraps = 1000\n",
    "bootstrap_auc_2019 = process_map(bootstrap_function2,\n",
    "                                 [X.copy() for i in range(nbootstraps)],\n",
    "                                 [y.copy() for i in range(nbootstraps)],\n",
    "                                 [Xabstract.copy() for i in range(nbootstraps)],\n",
    "                                 [yabstract.copy() for i in range(nbootstraps)],\n",
    "                                 [npos]*nbootstraps, [nneg]*nbootstraps,\n",
    "                                 [nposabstract]*nbootstraps, [nnegabstract]*nbootstraps,\n",
    "                                 np.array(range(nbootstraps)),\n",
    "                                 max_workers=32)"
   ]
  },
  {
   "cell_type": "markdown",
   "metadata": {},
   "source": [
    "### ICLR 2020 AUC ratio"
   ]
  },
  {
   "cell_type": "code",
   "execution_count": 12,
   "metadata": {},
   "outputs": [
    {
     "data": {
      "application/vnd.jupyter.widget-view+json": {
       "model_id": "bfded81d9d224433b4528210997ba9ef",
       "version_major": 2,
       "version_minor": 0
      },
      "text/plain": [
       "HBox(children=(FloatProgress(value=0.0, max=1000.0), HTML(value='')))"
      ]
     },
     "metadata": {},
     "output_type": "display_data"
    },
    {
     "name": "stdout",
     "output_type": "stream",
     "text": [
      "\n"
     ]
    }
   ],
   "source": [
    "year = 2020\n",
    "review_text = list(reviews[year][\"clean_text\"].values)\n",
    "vectorizer = CountVectorizer(ngram_range=(1, 2))\n",
    "X = vectorizer.fit_transform(review_text)\n",
    "y = reviews[year][\"foreign\"].values[:].copy().astype(int)\n",
    "npos = reviews[2019][\"foreign\"].sum()\n",
    "nneg = len(reviews[2019]) - npos\n",
    "\n",
    "r = reviews[year][[\"submission_id\", \"clean_abstract\", \"foreign\"]].drop_duplicates()\n",
    "abstract_text = r[\"clean_abstract\"].values\n",
    "vectorizer = CountVectorizer(ngram_range=(1, 2))\n",
    "Xabstract = vectorizer.fit_transform(abstract_text)\n",
    "yabstract = r[\"foreign\"].values[:].copy()\n",
    "r = reviews[2019][[\"submission_id\", \"clean_abstract\", \"foreign\"]].drop_duplicates()\n",
    "nposabstract = r[\"foreign\"].sum()\n",
    "nnegabstract = len(r) - nposabstract\n",
    "\n",
    "nbootstraps = 1000\n",
    "bootstrap_auc_2020 = process_map(bootstrap_function2,\n",
    "                                 [X.copy() for i in range(nbootstraps)],\n",
    "                                 [y.copy() for i in range(nbootstraps)],\n",
    "                                 [Xabstract.copy() for i in range(nbootstraps)],\n",
    "                                 [yabstract.copy() for i in range(nbootstraps)],\n",
    "                                 [npos]*nbootstraps, [nneg]*nbootstraps,\n",
    "                                 [nposabstract]*nbootstraps, [nnegabstract]*nbootstraps,\n",
    "                                 np.array(range(nbootstraps)),\n",
    "                                 max_workers=32)"
   ]
  },
  {
   "cell_type": "markdown",
   "metadata": {},
   "source": [
    "### Difference in AUC ratio between consecutive year pairs (Table 2, right)\n",
    "\n",
    "Note: p-values computed from emprical confidence intervals as suggested here: https://www.bmj.com/content/343/bmj.d2304"
   ]
  },
  {
   "cell_type": "code",
   "execution_count": 13,
   "metadata": {},
   "outputs": [
    {
     "name": "stdout",
     "output_type": "stream",
     "text": [
      "AUC Ratio in ICLR 2018 - ICLR 2017:\n",
      " \tmean (bias)=-0.166   std. error=0.055   p-value=0.002 \t95% CI=(-0.270, -0.063)\n",
      "AUC Ratio in ICLR 2019 - ICLR 2018:\n",
      " \tmean (bias)=-0.070   std. error=0.068   p-value=0.308 \t95% CI=(-0.195, 0.072)\n",
      "AUC Ratio in ICLR 2020 - ICLR 2019:\n",
      " \tmean (bias)=0.012   std. error=0.043   p-value=0.781 \t95% CI=(-0.082, 0.083)\n"
     ]
    }
   ],
   "source": [
    "def get_p_value(est, ci):\n",
    "    l, u = ci\n",
    "    se = (u - l)/(2 * 1.96)\n",
    "    z = np.abs(est/se)\n",
    "    p = np.exp(-0.717*z - 0.416*z*z)\n",
    "    return p\n",
    "\n",
    "# compute distribution of differences in AUC ratios in each consecutive year pair\n",
    "diff_2017_2018 = np.array(bootstrap_auc_2018) - np.array(bootstrap_auc_2017) \n",
    "diff_2018_2019 = np.array(bootstrap_auc_2019) - np.array(bootstrap_auc_2018) \n",
    "diff_2019_2020 = np.array(bootstrap_auc_2020) - np.array(bootstrap_auc_2019)\n",
    "\n",
    "print(\"AUC Ratio in ICLR 2018 - ICLR 2017:\\n\",\n",
    "      \"\\tmean (bias)={:.3f}\".format(np.mean(diff_2017_2018)),\n",
    "      \"  std. error={:.3f}\".format(np.std(diff_2017_2018)),\n",
    "      \"  p-value={:.3f}\".format(get_p_value(np.mean(diff_2017_2018),\n",
    "                                               np.percentile(diff_2017_2018, [2.5, 97.5]))),\n",
    "      \"\\t95% CI=({:.3f}, {:.3f})\".format(*np.percentile(diff_2017_2018, [2.5, 97.5])))\n",
    "print(\"AUC Ratio in ICLR 2019 - ICLR 2018:\\n\",\n",
    "      \"\\tmean (bias)={:.3f}\".format(np.mean(diff_2018_2019)),\n",
    "      \"  std. error={:.3f}\".format(np.std(diff_2018_2019)),\n",
    "      \"  p-value={:.3f}\".format(get_p_value(np.mean(diff_2018_2019),\n",
    "                                               np.percentile(diff_2018_2019, [2.5, 97.5]))),\n",
    "      \"\\t95% CI=({:.3f}, {:.3f})\".format(*np.percentile(diff_2018_2019, [2.5, 97.5])))\n",
    "print(\"AUC Ratio in ICLR 2020 - ICLR 2019:\\n\",\n",
    "      \"\\tmean (bias)={:.3f}\".format(np.mean(diff_2019_2020)),\n",
    "      \"  std. error={:.3f}\".format(np.std(diff_2019_2020)),\n",
    "      \"  p-value={:.3f}\".format(get_p_value(np.mean(diff_2019_2020),\n",
    "                                               np.percentile(diff_2019_2020, [2.5, 97.5]))),\n",
    "      \"\\t95% CI=({:.3f}, {:.3f})\".format(*np.percentile(diff_2019_2020, [2.5, 97.5])))"
   ]
  }
 ],
 "metadata": {
  "kernelspec": {
   "display_name": "Python 3",
   "language": "python",
   "name": "python3"
  },
  "language_info": {
   "codemirror_mode": {
    "name": "ipython",
    "version": 3
   },
   "file_extension": ".py",
   "mimetype": "text/x-python",
   "name": "python",
   "nbconvert_exporter": "python",
   "pygments_lexer": "ipython3",
   "version": "3.7.4"
  }
 },
 "nbformat": 4,
 "nbformat_minor": 2
}
